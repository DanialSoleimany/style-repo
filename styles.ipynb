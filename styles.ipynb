{
 "cells": [
  {
   "cell_type": "markdown",
   "id": "2090dc3f",
   "metadata": {},
   "source": [
    "### Table of Contents Style"
   ]
  },
  {
   "cell_type": "code",
   "execution_count": 1,
   "id": "64d7bf30",
   "metadata": {},
   "outputs": [
    {
     "name": "stdout",
     "output_type": "stream",
     "text": [
      "Stored 'table_contents' (str)\n"
     ]
    }
   ],
   "source": [
    "table_contents = \"\"\"<style>\n",
    ".hover-effect-container {\n",
    "    position: relative;\n",
    "    display: inline-block;\n",
    "  }\n",
    "\n",
    "  .hover-effect-text {\n",
    "    display: inline-block;\n",
    "    position: relative;\n",
    "    z-index: 1;\n",
    "    font-size: 20px;\n",
    "    transition: color 0.3s ease;\n",
    "    padding: 15px;\n",
    "    color: rgb(103, 32, 68);\n",
    "  }\n",
    "\n",
    "  .hover-effect-background {\n",
    "    position: absolute;\n",
    "    top: 0;\n",
    "    left: 0;\n",
    "    bottom: 0;\n",
    "    right: 100%;\n",
    "    background: linear-gradient(to right, rgb(173, 70, 108), rgb(204, 96, 125));\n",
    "    transition: right 0.3s ease, height 0.3s ease;\n",
    "    border-radius: 15px;\n",
    "  }\n",
    "\n",
    "  .hover-effect-container:hover .hover-effect-background {\n",
    "    right: 0;\n",
    "    border-radius: 10px;\n",
    "  }\n",
    "\n",
    "  .hover-effect-container:hover .hover-effect-text {\n",
    "    color: rgb(255, 198, 196);\n",
    "  }\n",
    "</style>\"\"\"\n",
    "\n",
    "%store table_contents"
   ]
  },
  {
   "cell_type": "markdown",
   "id": "fac5548f",
   "metadata": {},
   "source": [
    "### Cards Style"
   ]
  },
  {
   "cell_type": "code",
   "execution_count": 4,
   "id": "8b02d379",
   "metadata": {},
   "outputs": [
    {
     "name": "stdout",
     "output_type": "stream",
     "text": [
      "Stored 'cards' (str)\n"
     ]
    }
   ],
   "source": [
    "cards = \"\"\"\n",
    "<style>\n",
    ".card-container {\n",
    "    display: flex;\n",
    "    justify-content: space-between;\n",
    "    margin: 0px 0;\n",
    "}\n",
    "\n",
    ".card {\n",
    "    width: 320px;  /* Adjust the width as needed */\n",
    "    height: 300px;\n",
    "    background-color: rgb(139, 48, 88);\n",
    "    border: 1px solid ccc;\n",
    "    border-radius: 8px;\n",
    "    overflow: hidden;\n",
    "    position: relative;\n",
    "    transition: background-color 0.5s ease;\n",
    "}\n",
    "\n",
    ".card:hover {\n",
    "    background-color: rgb(103, 32, 68);\n",
    "}\n",
    "\n",
    ".card-content {\n",
    "    padding: 20px;\n",
    "    color: rgb(255, 198, 196);\n",
    "}\n",
    "\n",
    ".title {\n",
    "    color: rgb(227, 129, 145);\n",
    "}\n",
    "</style>\n",
    "\"\"\"\n",
    "\n",
    "%store cards"
   ]
  },
  {
   "cell_type": "markdown",
   "id": "81640092",
   "metadata": {},
   "source": [
    "### Titles Style"
   ]
  },
  {
   "cell_type": "code",
   "execution_count": 6,
   "id": "5621a1c3",
   "metadata": {},
   "outputs": [
    {
     "name": "stdout",
     "output_type": "stream",
     "text": [
      "Stored 'titles' (str)\n"
     ]
    }
   ],
   "source": [
    "titles = \"\"\"\n",
    "<style>\n",
    ".text-gradient-hover {\n",
    "    font-size: 18px;\n",
    "    padding: 30px;  \n",
    "    background: linear-gradient(to right, rgb(173, 70, 108), rgb(227, 129, 145));\n",
    "    color: rgb(255, 198, 196);\n",
    "    transition: background-position 0.3s ease-in-out, color 0.5s ease;  /* Specify the transition duration for color */\n",
    "    background-size: 200% 100%;\n",
    "    display: flex;\n",
    "    align-items: center;\n",
    "    justify-content: center;\n",
    "    height: 100%; /* Ensure the element takes the full height of its container */\n",
    "}\n",
    "\n",
    ".text-gradient-hover:hover {\n",
    "    background-position: right center;\n",
    "    color: rgb(103, 32, 68);\n",
    "}\n",
    "\n",
    ".text-gradient-hover h2 {\n",
    "    padding: 0px;  /* Adjust the outer padding as needed */\n",
    "    margin: 10;  /* Remove default margin to ensure the padding is consistent */\n",
    "}\n",
    "</style>\n",
    "\"\"\"\n",
    "\n",
    "%store titles"
   ]
  },
  {
   "cell_type": "markdown",
   "id": "f8f6c487",
   "metadata": {},
   "source": [
    "### Question Style"
   ]
  },
  {
   "cell_type": "code",
   "execution_count": 7,
   "id": "611291e3",
   "metadata": {},
   "outputs": [
    {
     "name": "stdout",
     "output_type": "stream",
     "text": [
      "Stored 'question' (str)\n"
     ]
    }
   ],
   "source": [
    "question = \"\"\"\n",
    "<style>\n",
    "  .hover-effect {\n",
    "    background-color: rgb(255, 220, 196);\n",
    "    padding: 15px;\n",
    "    border-radius: 10px;\n",
    "    box-shadow: 0 2px 4px 0 rgba(0, 0, 0, 0.1);\n",
    "    transition: background-color 0.3s ease;\n",
    "  }\n",
    "\n",
    "  .hover-effect:hover {\n",
    "    background-color: #ffd2ae;\n",
    "  }\n",
    "\n",
    "  .text {\n",
    "  padding: 20px;\n",
    "    font-size: 22px;\n",
    "    font-family: 'Arial', Times, serif;\n",
    "    line-height: 1.6em;\n",
    "    text-align: center;\n",
    "    color: #333;\n",
    "    text-shadow: 1px 1px 2px rgba(0, 0, 0, 0.1);\n",
    "  }\n",
    "</style>\n",
    "\"\"\"\n",
    "\n",
    "%store question"
   ]
  },
  {
   "cell_type": "code",
   "execution_count": null,
   "id": "86fbd04a",
   "metadata": {},
   "outputs": [],
   "source": []
  }
 ],
 "metadata": {
  "kernelspec": {
   "display_name": "Python 3 (ipykernel)",
   "language": "python",
   "name": "python3"
  },
  "language_info": {
   "codemirror_mode": {
    "name": "ipython",
    "version": 3
   },
   "file_extension": ".py",
   "mimetype": "text/x-python",
   "name": "python",
   "nbconvert_exporter": "python",
   "pygments_lexer": "ipython3",
   "version": "3.11.5"
  }
 },
 "nbformat": 4,
 "nbformat_minor": 5
}
